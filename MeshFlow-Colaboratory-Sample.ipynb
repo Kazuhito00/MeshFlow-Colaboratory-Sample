{
  "nbformat": 4,
  "nbformat_minor": 0,
  "metadata": {
    "colab": {
      "provenance": []
    },
    "kernelspec": {
      "name": "python3",
      "display_name": "Python 3"
    },
    "language_info": {
      "name": "python"
    }
  },
  "cells": [
    {
      "cell_type": "markdown",
      "source": [
        "# リポジトリクローン"
      ],
      "metadata": {
        "id": "n7i89-_VWJXP"
      }
    },
    {
      "cell_type": "code",
      "execution_count": null,
      "metadata": {
        "id": "_rN7l-s93DYL"
      },
      "outputs": [],
      "source": [
        "!git clone https://github.com/sudheerachary/Mesh-Flow-Video-Stabilization"
      ]
    },
    {
      "cell_type": "code",
      "source": [
        "%cd Mesh-Flow-Video-Stabilization/src"
      ],
      "metadata": {
        "id": "rIqw2x5_3KEm"
      },
      "execution_count": null,
      "outputs": []
    },
    {
      "cell_type": "markdown",
      "source": [
        "# Python3向け修正\n",
        "なぜかマージされずにクローズしているIssue「[Python 3 fixes #22](https://github.com/sudheerachary/Mesh-Flow-Video-Stabilization/pull/22)」を利用するのもアリかも"
      ],
      "metadata": {
        "id": "tpoFdgQRWf4Z"
      }
    },
    {
      "cell_type": "code",
      "source": [
        "with open('Stabilization.py','r') as fp:\n",
        "    file_lines = fp.read()\n",
        "file_lines = file_lines.replace(\n",
        "    \"print method.__name__+' has taken: '+str(end_time-start_time)+' sec'\",\n",
        "    \"print(method.__name__+' has taken: '+str(end_time-start_time)+' sec')\",\n",
        ")\n",
        "file_lines = file_lines.replace(\n",
        "    \"print 'Time elapsed: ', str(time.time()-start_time)\",\n",
        "    \"print('Time elapsed: ', str(time.time()-start_time))\",\n",
        ")\n",
        "file_lines = file_lines.replace(\n",
        "    \"x_paths = np.zeros((old_frame.shape[0]/PIXELS, old_frame.shape[1]/PIXELS, 1))\",\n",
        "    \"x_paths = np.zeros((int(old_frame.shape[0]/PIXELS), int(old_frame.shape[1]/PIXELS), 1))\",\n",
        ")\n",
        "file_lines = file_lines.replace(\n",
        "    \"y_paths = np.zeros((old_frame.shape[0]/PIXELS, old_frame.shape[1]/PIXELS, 1))\",\n",
        "    \"y_paths = np.zeros((int(old_frame.shape[0]/PIXELS), int(old_frame.shape[1]/PIXELS), 1))\\n    VERTICAL_BORDER = int((HORIZONTAL_BORDER*old_gray.shape[1])/old_gray.shape[0])\",\n",
        ")\n",
        "with open('Stabilization.py','w') as fp:\n",
        "    fp.write(file_lines)"
      ],
      "metadata": {
        "id": "u_841uCZ4LPo"
      },
      "execution_count": 3,
      "outputs": []
    },
    {
      "cell_type": "code",
      "source": [
        "with open('MeshFlow.py','r') as fp:\n",
        "    file_lines = fp.read()\n",
        "file_lines = file_lines.replace(\n",
        "    \"cols, rows = old_frame.shape[1]/PIXELS, old_frame.shape[0]/PIXELS\",\n",
        "    \"cols, rows = int(old_frame.shape[1]/PIXELS), int(old_frame.shape[0]/PIXELS)\",\n",
        ")\n",
        "file_lines = file_lines.replace(\n",
        "    \"x_motion_mesh[key] = x_motion[key]+temp_x_motion[key][len(temp_x_motion[key])/2]\",\n",
        "    \"x_motion_mesh[key] = x_motion[key]+temp_x_motion[key][int(len(temp_x_motion[key])/2)]\",\n",
        ")\n",
        "file_lines = file_lines.replace(\n",
        "    \"y_motion_mesh[key] = y_motion[key]+temp_y_motion[key][len(temp_y_motion[key])/2]\",\n",
        "    \"y_motion_mesh[key] = y_motion[key]+temp_y_motion[key][int(len(temp_y_motion[key])/2)]\",\n",
        ")\n",
        "with open('MeshFlow.py','w') as fp:\n",
        "    fp.write(file_lines)"
      ],
      "metadata": {
        "id": "dkgq1wYT5qSm"
      },
      "execution_count": 4,
      "outputs": []
    },
    {
      "cell_type": "markdown",
      "source": [
        "# サンプル動画ダウンロード"
      ],
      "metadata": {
        "id": "CVjISVejWUDj"
      }
    },
    {
      "cell_type": "code",
      "source": [
        "import gdown\n",
        "gdown.download('https://drive.google.com/uc?id=1K9WSa4eOgCEwCVsWXKgdvHiN_kb4g6Qo', 'sample.mp4', quiet=False)"
      ],
      "metadata": {
        "id": "YHL1hEkgWVGB"
      },
      "execution_count": null,
      "outputs": []
    },
    {
      "cell_type": "markdown",
      "source": [
        "# MeshFlow実行"
      ],
      "metadata": {
        "id": "u5fO0cfqWXf3"
      }
    },
    {
      "cell_type": "code",
      "source": [
        "%%time\n",
        "\n",
        "!python Stabilization.py sample.mp4"
      ],
      "metadata": {
        "colab": {
          "base_uri": "https://localhost:8080/"
        },
        "id": "jn8QYz8j3n4R",
        "outputId": "41536c8a-7799-426a-d2f8-2918fd66e4cf"
      },
      "execution_count": 6,
      "outputs": [
        {
          "output_type": "stream",
          "name": "stdout",
          "text": [
            "100% 383/384 [02:21<00:00,  2.71it/s]\n",
            "read_video has taken: 141.6261692047119 sec\n",
            "100% 880/880 [04:30<00:00,  3.26it/s]\n",
            "100% 880/880 [04:28<00:00,  3.28it/s]\n",
            "stabilize has taken: 538.5332555770874 sec\n",
            "100% 384/384 [05:07<00:00,  1.25it/s]\n",
            "generate_stabilized_video has taken: 307.7569966316223 sec\n",
            "Time elapsed:  1002.8481283187866\n",
            "CPU times: user 11.3 s, sys: 1.25 s, total: 12.5 s\n",
            "Wall time: 16min 46s\n"
          ]
        }
      ]
    }
  ]
}